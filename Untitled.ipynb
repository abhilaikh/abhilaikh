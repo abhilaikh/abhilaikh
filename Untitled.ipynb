{
 "cells": [
  {
   "cell_type": "code",
   "execution_count": 1,
   "id": "f39d1b85-e477-4b33-8daf-ca107be9a91c",
   "metadata": {},
   "outputs": [],
   "source": [
    "import re"
   ]
  },
  {
   "cell_type": "code",
   "execution_count": 2,
   "id": "b4234ea5-117b-4b4c-92ab-fdc877d69c86",
   "metadata": {},
   "outputs": [],
   "source": [
    "text= \"This is beautiful day\""
   ]
  },
  {
   "cell_type": "code",
   "execution_count": 4,
   "id": "bef9a3d3-267d-43fb-92c2-fef9de54f4a5",
   "metadata": {},
   "outputs": [
    {
     "data": {
      "text/plain": [
       "<re.Match object; span=(2, 4), match='is'>"
      ]
     },
     "execution_count": 4,
     "metadata": {},
     "output_type": "execute_result"
    }
   ],
   "source": [
    "re.search(r'is', text)"
   ]
  },
  {
   "cell_type": "code",
   "execution_count": 5,
   "id": "e9cee29a-b9e4-40cf-b6b5-0baaa6dd5494",
   "metadata": {},
   "outputs": [],
   "source": [
    "m = re.search(r'is', text)"
   ]
  },
  {
   "cell_type": "code",
   "execution_count": 9,
   "id": "9d825925-e2cb-4a3d-a7de-b90863b17bc4",
   "metadata": {},
   "outputs": [
    {
     "data": {
      "text/plain": [
       "'is'"
      ]
     },
     "execution_count": 9,
     "metadata": {},
     "output_type": "execute_result"
    }
   ],
   "source": [
    "m.group()"
   ]
  },
  {
   "cell_type": "code",
   "execution_count": 10,
   "id": "b76a6bc1-6139-4b6c-9ba9-946ea74e67bb",
   "metadata": {},
   "outputs": [
    {
     "data": {
      "text/plain": [
       "(2, 4, (2, 4))"
      ]
     },
     "execution_count": 10,
     "metadata": {},
     "output_type": "execute_result"
    }
   ],
   "source": [
    "m.start(), m.end(), m.span()"
   ]
  },
  {
   "cell_type": "code",
   "execution_count": 16,
   "id": "88c8a733-aade-4184-b553-d6b4e6cbbe3e",
   "metadata": {},
   "outputs": [],
   "source": [
    "n = re.match(r'Th', text)"
   ]
  },
  {
   "cell_type": "code",
   "execution_count": 17,
   "id": "c7c0583a-6ecd-4b1a-b51f-ca39c9dc0cc3",
   "metadata": {},
   "outputs": [
    {
     "name": "stdout",
     "output_type": "stream",
     "text": [
      "<re.Match object; span=(0, 2), match='Th'>\n"
     ]
    }
   ],
   "source": [
    "print(n)"
   ]
  },
  {
   "cell_type": "code",
   "execution_count": 20,
   "id": "420b475d-5e61-4cf7-a280-8ea8b0c4e898",
   "metadata": {},
   "outputs": [
    {
     "data": {
      "text/plain": [
       "('Th', 2, (2, 4))"
      ]
     },
     "execution_count": 20,
     "metadata": {},
     "output_type": "execute_result"
    }
   ],
   "source": [
    "n.group(), n.end(), m.span()"
   ]
  },
  {
   "cell_type": "code",
   "execution_count": 28,
   "id": "e0f95363-942c-4d03-97d1-dd81a357c843",
   "metadata": {},
   "outputs": [],
   "source": [
    "o = re.findall(r'is', text)"
   ]
  },
  {
   "cell_type": "code",
   "execution_count": 30,
   "id": "491b270a-3703-413b-89a8-70c0560847eb",
   "metadata": {},
   "outputs": [
    {
     "name": "stdout",
     "output_type": "stream",
     "text": [
      "['is', 'is']\n"
     ]
    }
   ],
   "source": [
    "print(o)"
   ]
  },
  {
   "cell_type": "code",
   "execution_count": 31,
   "id": "b5bb29c2-7a6f-47af-9ee3-b0c427f045b4",
   "metadata": {},
   "outputs": [],
   "source": [
    "text2 = 'abababaababababaaababa'"
   ]
  },
  {
   "cell_type": "code",
   "execution_count": 50,
   "id": "e9ea49d7-16ae-4cc4-8fdc-25786106280b",
   "metadata": {},
   "outputs": [],
   "source": [
    "n = re.finditer(r'ab', text2)"
   ]
  },
  {
   "cell_type": "code",
   "execution_count": 51,
   "id": "490bf533-b692-4043-9e01-2365991aaabe",
   "metadata": {},
   "outputs": [
    {
     "data": {
      "text/plain": [
       "callable_iterator"
      ]
     },
     "execution_count": 51,
     "metadata": {},
     "output_type": "execute_result"
    }
   ],
   "source": [
    "type(n)"
   ]
  },
  {
   "cell_type": "code",
   "execution_count": 52,
   "id": "17c01149-fe12-4b7a-a490-1527b2da2682",
   "metadata": {},
   "outputs": [
    {
     "name": "stdout",
     "output_type": "stream",
     "text": [
      "ab 0 2\n",
      "ab 2 4\n",
      "ab 4 6\n",
      "ab 7 9\n",
      "ab 9 11\n",
      "ab 11 13\n",
      "ab 13 15\n",
      "ab 17 19\n",
      "ab 19 21\n"
     ]
    }
   ],
   "source": [
    "for i in n:\n",
    "    print(i.group(), i.start(), i.end())"
   ]
  },
  {
   "cell_type": "code",
   "execution_count": null,
   "id": "e543e16a-cbdd-4ed0-b139-d8e1be179bbd",
   "metadata": {},
   "outputs": [],
   "source": []
  },
  {
   "cell_type": "code",
   "execution_count": null,
   "id": "d1dc0081-52c6-4db8-89bb-512b579f9b9e",
   "metadata": {},
   "outputs": [],
   "source": []
  }
 ],
 "metadata": {
  "kernelspec": {
   "display_name": "Python 3 (ipykernel)",
   "language": "python",
   "name": "python3"
  },
  "language_info": {
   "codemirror_mode": {
    "name": "ipython",
    "version": 3
   },
   "file_extension": ".py",
   "mimetype": "text/x-python",
   "name": "python",
   "nbconvert_exporter": "python",
   "pygments_lexer": "ipython3",
   "version": "3.9.7"
  }
 },
 "nbformat": 4,
 "nbformat_minor": 5
}
